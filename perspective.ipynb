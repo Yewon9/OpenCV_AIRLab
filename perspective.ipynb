{
  "nbformat": 4,
  "nbformat_minor": 0,
  "metadata": {
    "colab": {
      "name": "perspective.ipynb",
      "provenance": [],
      "authorship_tag": "ABX9TyOrHR9ohWCsQyV5Fn6SGsPd",
      "include_colab_link": true
    },
    "kernelspec": {
      "name": "python3",
      "display_name": "Python 3"
    },
    "language_info": {
      "name": "python"
    }
  },
  "cells": [
    {
      "cell_type": "markdown",
      "metadata": {
        "id": "view-in-github",
        "colab_type": "text"
      },
      "source": [
        "<a href=\"https://colab.research.google.com/github/Yewon9/OpenCV_AIRLab/blob/main/perspective.ipynb\" target=\"_parent\"><img src=\"https://colab.research.google.com/assets/colab-badge.svg\" alt=\"Open In Colab\"/></a>"
      ]
    },
    {
      "cell_type": "code",
      "execution_count": 1,
      "metadata": {
        "id": "zYOWn6OrZ4-I"
      },
      "outputs": [],
      "source": [
        "from google.colab.patches import cv2_imshow"
      ]
    },
    {
      "cell_type": "code",
      "source": [
        "import cv2\n",
        "import numpy as np"
      ],
      "metadata": {
        "id": "y7dWnnJvakQ_"
      },
      "execution_count": 2,
      "outputs": []
    },
    {
      "cell_type": "code",
      "source": [
        "file_name = 'fish.jpg'\n",
        "img = cv2.imread(file_name)\n",
        "rows, cols = img.shape[:2]"
      ],
      "metadata": {
        "id": "TOoez2b9amkO"
      },
      "execution_count": 3,
      "outputs": []
    },
    {
      "cell_type": "code",
      "source": [
        "#원근 변환 전후 4개 좌표\n",
        "pts1 = np.float32([[0,0],[0,rows],[cols,0],[cols,rows]])\n",
        "pts2 = np.float32([[100,50],[10,rows-50],[cols-100,50],[cols-50,rows-50]])"
      ],
      "metadata": {
        "id": "GXNFk6sHatoK"
      },
      "execution_count": 7,
      "outputs": []
    },
    {
      "cell_type": "code",
      "source": [
        "#변환 전 좌표를 원본 이미지에 표시\n",
        "cv2.circle(img, (0,0), 10, (255,0,0), -1)\n",
        "cv2.circle(img, (0,rows), 10, (0,255,0), -1)\n",
        "cv2.circle(img, (cols,0), 10, (0,0,255), -1)\n",
        "cv2.circle(img, (cols,rows), 10, (0,255,255), -1)"
      ],
      "metadata": {
        "colab": {
          "base_uri": "https://localhost:8080/"
        },
        "id": "IfDPOVyqa8p6",
        "outputId": "2d626531-fa19-4d18-d033-5926e99f9f68"
      },
      "execution_count": 8,
      "outputs": [
        {
          "output_type": "execute_result",
          "data": {
            "text/plain": [
              "array([[[255,   0,   0],\n",
              "        [255,   0,   0],\n",
              "        [255,   0,   0],\n",
              "        ...,\n",
              "        [  0,   0, 255],\n",
              "        [  0,   0, 255],\n",
              "        [  0,   0, 255]],\n",
              "\n",
              "       [[255,   0,   0],\n",
              "        [255,   0,   0],\n",
              "        [255,   0,   0],\n",
              "        ...,\n",
              "        [  0,   0, 255],\n",
              "        [  0,   0, 255],\n",
              "        [  0,   0, 255]],\n",
              "\n",
              "       [[255,   0,   0],\n",
              "        [255,   0,   0],\n",
              "        [255,   0,   0],\n",
              "        ...,\n",
              "        [  0,   0, 255],\n",
              "        [  0,   0, 255],\n",
              "        [  0,   0, 255]],\n",
              "\n",
              "       ...,\n",
              "\n",
              "       [[  0, 255,   0],\n",
              "        [  0, 255,   0],\n",
              "        [  0, 255,   0],\n",
              "        ...,\n",
              "        [  0, 255, 255],\n",
              "        [  0, 255, 255],\n",
              "        [  0, 255, 255]],\n",
              "\n",
              "       [[  0, 255,   0],\n",
              "        [  0, 255,   0],\n",
              "        [  0, 255,   0],\n",
              "        ...,\n",
              "        [  0, 255, 255],\n",
              "        [  0, 255, 255],\n",
              "        [  0, 255, 255]],\n",
              "\n",
              "       [[  0, 255,   0],\n",
              "        [  0, 255,   0],\n",
              "        [  0, 255,   0],\n",
              "        ...,\n",
              "        [  0, 255, 255],\n",
              "        [  0, 255, 255],\n",
              "        [  0, 255, 255]]], dtype=uint8)"
            ]
          },
          "metadata": {},
          "execution_count": 8
        }
      ]
    },
    {
      "cell_type": "code",
      "source": [
        "#원근 변환행렬 계산\n",
        "mtrx = cv2.getPerspectiveTransform(pts1, pts2)\n",
        "#원근 변환 적용\n",
        "dst = cv2.warpPerspective(img, mtrx, (cols,rows))"
      ],
      "metadata": {
        "id": "JPpt-zfXbULB"
      },
      "execution_count": 9,
      "outputs": []
    },
    {
      "cell_type": "code",
      "source": [
        "cv2_imshow(img)\n",
        "cv2_imshow(dst)"
      ],
      "metadata": {
        "colab": {
          "base_uri": "https://localhost:8080/",
          "height": 529
        },
        "id": "2Op5FWMSbe5a",
        "outputId": "715e5eed-fabc-49e4-d680-61eff2059707"
      },
      "execution_count": 10,
      "outputs": [
        {
          "output_type": "display_data",
          "data": {
            "text/plain": [
              "<PIL.Image.Image image mode=RGB size=256x256 at 0x7F680F4295D0>"
            ],
            "image/png": "[encoded data removed]"
          },
          "metadata": {}
        },
        {
          "output_type": "display_data",
          "data": {
            "text/plain": [
              "<PIL.Image.Image image mode=RGB size=256x256 at 0x7F680F3CD4D0>"
            ],
            "image/png": "[encoded data removed]"
          },
          "metadata": {}
        }
      ]
    },
    {
      "cell_type": "code",
      "source": [
        ""
      ],
      "metadata": {
        "id": "Aa9HqDZMbiF2"
      },
      "execution_count": null,
      "outputs": []
    }
  ]
}
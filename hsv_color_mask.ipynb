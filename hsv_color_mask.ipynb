{
  "nbformat": 4,
  "nbformat_minor": 0,
  "metadata": {
    "colab": {
      "name": "hsv_color_mask.ipynb",
      "provenance": [],
      "authorship_tag": "ABX9TyMgkQ1krmH3WXgEKSt3uyLv",
      "include_colab_link": true
    },
    "kernelspec": {
      "name": "python3",
      "display_name": "Python 3"
    },
    "language_info": {
      "name": "python"
    }
  },
  "cells": [
    {
      "cell_type": "markdown",
      "metadata": {
        "id": "view-in-github",
        "colab_type": "text"
      },
      "source": [
        "<a href=\"https://colab.research.google.com/github/Yewon9/OpenCV_AIRLab/blob/main/hsv_color_mask.ipynb\" target=\"_parent\"><img src=\"https://colab.research.google.com/assets/colab-badge.svg\" alt=\"Open In Colab\"/></a>"
      ]
    },
    {
      "cell_type": "code",
      "execution_count": 1,
      "metadata": {
        "id": "-egvACTmYpSd"
      },
      "outputs": [],
      "source": [
        "from google.colab.patches import cv2_imshow"
      ]
    },
    {
      "cell_type": "code",
      "source": [
        "import cv2\n",
        "import numpy as np\n",
        "import matplotlib.pylab as plt"
      ],
      "metadata": {
        "id": "ODEMQeUfY5D3"
      },
      "execution_count": 2,
      "outputs": []
    },
    {
      "cell_type": "code",
      "source": [
        "#큐브 영상을 읽어서 HSV로 변환\n",
        "img = cv2.imread('cube.jpg')\n",
        "hsv = cv2.cvtColor(img, cv2.COLOR_BGR2HSV)"
      ],
      "metadata": {
        "id": "PpIcuofWY9bt"
      },
      "execution_count": 3,
      "outputs": []
    },
    {
      "cell_type": "code",
      "source": [
        "#색상별 영역 지정\n",
        "blue1 = np.array([90, 50, 50])\n",
        "blue2 = np.array([120, 255,255])\n",
        "green1 = np.array([45, 50,50])\n",
        "green2 = np.array([75, 255,255])\n",
        "red1 = np.array([0, 50,50])\n",
        "red2 = np.array([15, 255,255])\n",
        "red3 = np.array([165, 50,50])\n",
        "red4 = np.array([180, 255,255])\n",
        "yellow1 = np.array([20, 50,50])\n",
        "yellow2 = np.array([35, 255,255])"
      ],
      "metadata": {
        "id": "g-CuijyhZIq3"
      },
      "execution_count": 4,
      "outputs": []
    },
    {
      "cell_type": "code",
      "source": [
        "#색상에 따른 마스크 생성\n",
        "mask_blue = cv2.inRange(hsv, blue1, blue2)\n",
        "mask_green = cv2.inRange(hsv, green1, green2)\n",
        "mask_red = cv2.inRange(hsv, red1, red2)\n",
        "mask_red2 = cv2.inRange(hsv, red3, red4)\n",
        "mask_yellow = cv2.inRange(hsv, yellow1, yellow2)"
      ],
      "metadata": {
        "id": "FOtrnI9xZYUC"
      },
      "execution_count": 5,
      "outputs": []
    },
    {
      "cell_type": "code",
      "source": [
        "#색상별 마스크로 색상만 추출\n",
        "res_blue = cv2.bitwise_and(img, img, mask=mask_blue)\n",
        "res_green = cv2.bitwise_and(img, img, mask=mask_green)\n",
        "res_red1 = cv2.bitwise_and(img, img, mask=mask_red)\n",
        "res_red2 = cv2.bitwise_and(img, img, mask=mask_red2)\n",
        "res_red = cv2.bitwise_or(res_red1, res_red2)\n",
        "res_yellow = cv2.bitwise_and(img, img, mask=mask_yellow)"
      ],
      "metadata": {
        "id": "lrHTjDB2Zc1r"
      },
      "execution_count": 6,
      "outputs": []
    },
    {
      "cell_type": "code",
      "source": [
        "#결과 출력\n",
        "imgs = {'original': img, 'blue':res_blue, 'green':res_green, \n",
        "                            'red':res_red, 'yellow':res_yellow}\n",
        "for i, (k, v) in enumerate(imgs.items()):\n",
        "    plt.subplot(2,3, i+1)\n",
        "    plt.title(k)\n",
        "    plt.imshow(v[:,:,::-1])\n",
        "    plt.xticks([]); plt.yticks([])\n",
        "plt.show()"
      ],
      "metadata": {
        "colab": {
          "base_uri": "https://localhost:8080/",
          "height": 265
        },
        "id": "CiS-bSzSZg_s",
        "outputId": "13a7430e-9c67-4bb0-ba68-6f77f419c956"
      },
      "execution_count": 7,
      "outputs": [
        {
          "output_type": "display_data",
          "data": {
            "text/plain": [
              "<Figure size 432x288 with 5 Axes>"
            ],
            "image/png": "[encoded data removed]"
          },
          "metadata": {}
        }
      ]
    },
    {
      "cell_type": "code",
      "source": [
        ""
      ],
      "metadata": {
        "id": "Yx_98n3VZjlV"
      },
      "execution_count": null,
      "outputs": []
    }
  ]
}